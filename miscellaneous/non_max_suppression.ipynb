{
 "cells": [
  {
   "cell_type": "code",
   "execution_count": 29,
   "metadata": {},
   "outputs": [],
   "source": [
    "from collections import deque\n",
    "from copy import copy\n",
    "\n",
    "import matplotlib.pyplot as plt\n",
    "import numpy as np\n",
    "from imutils.object_detection import non_max_suppression\n",
    "from matplotlib.patches import Rectangle"
   ]
  },
  {
   "cell_type": "code",
   "execution_count": 30,
   "metadata": {},
   "outputs": [
    {
     "data": {
      "image/png": "[encoded data removed]",
      "text/plain": [
       "<Figure size 600x600 with 1 Axes>"
      ]
     },
     "metadata": {},
     "output_type": "display_data"
    }
   ],
   "source": [
    "bboxes = np.array(\n",
    "    [\n",
    "        [30, 63, 179, 132],  # x1, y1, x2, y2\n",
    "        [28, 59, 170, 124],\n",
    "        [24, 54, 175, 134],\n",
    "        [67, 12, 128, 68],\n",
    "        [15, 150, 86, 170],\n",
    "    ]\n",
    ")\n",
    "widths_heights = bboxes[:, 2:] - bboxes[:, :2]\n",
    "scores = np.array((0.85, 0.88, 0.97, 0.78, 0.75))\n",
    "colors = np.array((\"red\", \"blue\", \"green\", \"purple\", \"black\"))\n",
    "\n",
    "plt.figure(figsize=(6, 6))\n",
    "\n",
    "for bbox, (width, height), color in zip(bboxes, widths_heights, colors):\n",
    "    plt.gca().add_patch(Rectangle(bbox[:2], width, height, color=color, fill=False))  # type: ignore\n",
    "\n",
    "plt.xlim(-10, 210)\n",
    "plt.ylim(-10, 210)\n",
    "plt.gca().invert_yaxis()\n",
    "plt.gca().xaxis.tick_top()\n",
    "plt.show()"
   ]
  },
  {
   "cell_type": "code",
   "execution_count": 31,
   "metadata": {},
   "outputs": [],
   "source": [
    "def iou(bbox_a, bbox_b):\n",
    "    bbox_a, bbox_b = np.asarray(bbox_a, dtype=np.float32), np.asarray(bbox_b, dtype=np.float32)\n",
    "    if not (bbox_a.size == 4 and bbox_b.size == 4):\n",
    "        raise ValueError(\"'bbox_a' and 'bbox_b' should be 4-element arrays\")\n",
    "\n",
    "    x_left = max(bbox_a[0], bbox_b[0])\n",
    "    x_right = min(bbox_a[2], bbox_b[2])\n",
    "    y_bottom = max(bbox_a[1], bbox_b[1])\n",
    "    y_top = min(bbox_a[3], bbox_b[3])\n",
    "\n",
    "    if intersect_area := max(0, x_right - x_left) * max(0, y_top - y_bottom):\n",
    "        bbox_a_area = np.prod(bbox_a[2:] - bbox_a[:2])\n",
    "        bbox_b_area = np.prod(bbox_b[2:] - bbox_b[:2])\n",
    "        return intersect_area / (bbox_a_area + bbox_b_area - intersect_area)  # type: ignore\n",
    "\n",
    "    return 0.0"
   ]
  },
  {
   "cell_type": "code",
   "execution_count": 32,
   "metadata": {},
   "outputs": [
    {
     "data": {
      "text/plain": [
       "0.7784158"
      ]
     },
     "execution_count": 32,
     "metadata": {},
     "output_type": "execute_result"
    }
   ],
   "source": [
    "iou(bboxes[0], bboxes[1])"
   ]
  },
  {
   "cell_type": "code",
   "execution_count": 33,
   "metadata": {},
   "outputs": [],
   "source": [
    "def non_maximum_suppression(bboxes, scores, overlap_thresh=0.3):\n",
    "    bboxes = np.asarray(bboxes)\n",
    "    scores = deque(np.argsort(scores), maxlen=len(scores))\n",
    "    non_overlap = deque(maxlen=len(scores))\n",
    "\n",
    "    while scores:\n",
    "        si = scores.pop()\n",
    "        non_overlap.append(si)\n",
    "\n",
    "        for sj in copy(scores):\n",
    "            if iou(bboxes[si], bboxes[sj]) > overlap_thresh:\n",
    "                scores.pop()\n",
    "\n",
    "    return bboxes[non_overlap]"
   ]
  },
  {
   "cell_type": "code",
   "execution_count": 34,
   "metadata": {},
   "outputs": [
    {
     "data": {
      "text/plain": [
       "array([[ 24,  54, 175, 134],\n",
       "       [ 67,  12, 128,  68],\n",
       "       [ 15, 150,  86, 170]])"
      ]
     },
     "execution_count": 34,
     "metadata": {},
     "output_type": "execute_result"
    }
   ],
   "source": [
    "nms_bboxes = non_maximum_suppression(bboxes, scores, overlap_thresh=0.3)\n",
    "nms_bboxes"
   ]
  },
  {
   "cell_type": "code",
   "execution_count": 35,
   "metadata": {},
   "outputs": [
    {
     "data": {
      "text/plain": [
       "array([[ 24,  54, 175, 134],\n",
       "       [ 67,  12, 128,  68],\n",
       "       [ 15, 150,  86, 170]])"
      ]
     },
     "execution_count": 35,
     "metadata": {},
     "output_type": "execute_result"
    }
   ],
   "source": [
    "nms_boxes = non_max_suppression(bboxes, scores, overlapThresh=0.3)\n",
    "nms_boxes"
   ]
  }
 ],
 "metadata": {
  "kernelspec": {
   "display_name": "computer-vision-venv",
   "language": "python",
   "name": "python3"
  },
  "language_info": {
   "codemirror_mode": {
    "name": "ipython",
    "version": 3
   },
   "file_extension": ".py",
   "mimetype": "text/x-python",
   "name": "python",
   "nbconvert_exporter": "python",
   "pygments_lexer": "ipython3",
   "version": "3.11.6"
  }
 },
 "nbformat": 4,
 "nbformat_minor": 2
}
